{
 "cells": [
  {
   "cell_type": "code",
   "execution_count": 2,
   "id": "637b6e83-9ac8-48a7-a42e-298148c54ebc",
   "metadata": {},
   "outputs": [],
   "source": [
    "import os\n",
    "import google.generativeai as genai\n",
    "import PIL.Image\n",
    "import dotenv"
   ]
  },
  {
   "cell_type": "code",
   "execution_count": 3,
   "id": "b6273c12-434c-44df-a541-3ce349b73b3c",
   "metadata": {},
   "outputs": [],
   "source": [
    "# Configure the API\n",
    "dotenv.load_dotenv(\"key.env\")\n",
    "api_key = os.getenv(\"GOOGLE_API_KEY\")\n",
    "\n",
    "genai.configure(api_key=api_key)\n",
    "\n",
    "# Create the model\n",
    "generation_config = {\n",
    "    \"temperature\": 0.7,\n",
    "    \"top_p\": 0.95,\n",
    "    \"top_k\": 64,\n",
    "    \"max_output_tokens\": 65536,\n",
    "    \"response_mime_type\": \"text/plain\",\n",
    "}\n",
    "\n",
    "model = genai.GenerativeModel(\n",
    "    model_name=\"gemini-2.0-flash-thinking-exp-01-21\",\n",
    "    generation_config=generation_config,\n",
    "    system_instruction=\"You will be given an input as a word and an image. You need to warn the user that this is a dangerous animal (if it is).\\nHere's how you need to structure your output:\\nWhat the animal is, what to do right now,\\nHow dangerous is it (0-10),\\nHow fast is it (human speed, slow than humans, or higher than humans.). Add some more details after this, like what it hunts, etc.\\n\\nRemember, the user currently might be in an emergency. Answer appropriately. Do not waste ANY characters. But also make sure to make clear what you are writing. (Don't write \\\"faster\\\", write \\\"this is faster than humans\\\". Tell the user what to do appropriately. If you say only \\\"slowly back away\\\" for everything, it is incorrect. There are different counters to different animals.\\n\",\n",
    ")"
   ]
  },
  {
   "cell_type": "code",
   "execution_count": 4,
   "id": "f3bb5a36-ed0c-4242-aff4-15d9af10982f",
   "metadata": {},
   "outputs": [],
   "source": [
    "def process_input(text_input, image_path):\n",
    "    # Load the image\n",
    "    image = PIL.Image.open(image_path)\n",
    "    \n",
    "    # Start a chat session\n",
    "    chat_session = model.start_chat(history=[])\n",
    "    \n",
    "    # Send the message with both text and image\n",
    "    response = chat_session.send_message([text_input, image])\n",
    "    \n",
    "    return response.text"
   ]
  },
  {
   "cell_type": "code",
   "execution_count": 7,
   "id": "b65c2d86-1850-4934-bb1e-8401f26b3d4c",
   "metadata": {},
   "outputs": [
    {
     "name": "stdout",
     "output_type": "stream",
     "text": [
      "Grizzly Bear. Do not run. Back away slowly. Be big. If attacked, play dead.\n",
      "Danger: 9/10.\n",
      "Speed: Faster than humans. Hunts large animals.\n"
     ]
    }
   ],
   "source": [
    "text_input = \"Grizzly Bear\"\n",
    "image_path = \"Images/GrizzlyBear.png\"\n",
    "\n",
    "output = process_input(text_input, image_path)\n",
    "print(output)"
   ]
  }
 ],
 "metadata": {
  "kernelspec": {
   "display_name": "Python 3 (ipykernel)",
   "language": "python",
   "name": "python3"
  },
  "language_info": {
   "codemirror_mode": {
    "name": "ipython",
    "version": 3
   },
   "file_extension": ".py",
   "mimetype": "text/x-python",
   "name": "python",
   "nbconvert_exporter": "python",
   "pygments_lexer": "ipython3",
   "version": "3.11.5"
  }
 },
 "nbformat": 4,
 "nbformat_minor": 5
}
