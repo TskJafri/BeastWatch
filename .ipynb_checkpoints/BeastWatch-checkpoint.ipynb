{
 "cells": [
  {
   "cell_type": "code",
   "execution_count": 19,
   "id": "637b6e83-9ac8-48a7-a42e-298148c54ebc",
   "metadata": {},
   "outputs": [],
   "source": [
    "import requests\n",
    "import base64\n",
    "import json\n",
    "import os\n",
    "from dotenv import load_dotenv"
   ]
  },
  {
   "cell_type": "code",
   "execution_count": 21,
   "id": "5779d20a-8b03-403c-9823-b85246eff00b",
   "metadata": {},
   "outputs": [],
   "source": [
    "# Load API key securely\n",
    "load_dotenv()\n",
    "api_key = os.getenv(\"GOOGLE_API_KEY\", \"\")"
   ]
  },
  {
   "cell_type": "code",
   "execution_count": 22,
   "id": "18eb3c8d-5008-40f4-b875-f4c55af46ed7",
   "metadata": {},
   "outputs": [],
   "source": [
    "def encode_image(image_path):\n",
    "    \"\"\"Encodes an image to Base64 for API transmission.\"\"\"\n",
    "    with open(image_path, \"rb\") as img_file:\n",
    "        return base64.b64encode(img_file.read()).decode(\"utf-8\")\n",
    "\n",
    "def send_to_api(image_path, text_input, api_url):\n",
    "    \"\"\"Sends image and text to the API and retrieves a response.\"\"\"\n",
    "    encoded_image = encode_image(image_path)\n",
    "    \n",
    "    payload = {\n",
    "        \"contents\": [\n",
    "            {\"parts\": [\n",
    "                {\"text\": text_input},\n",
    "                {\"inline_data\": {\"mime_type\": \"image/jpeg\", \"data\": encoded_image}}\n",
    "            ]}\n",
    "        ]\n",
    "    }\n",
    "    headers = {\n",
    "        \"Content-Type\": \"application/json\",\n",
    "        \"Authorization\": f\"Bearer {api_key}\"\n",
    "    }\n",
    "    \n",
    "    response = requests.post(api_url, headers=headers, json=payload)\n",
    "    \n",
    "    if response.status_code == 200:\n",
    "        return response.json()\n",
    "    else:\n",
    "        return f\"Error: {response.status_code}, {response.text}\""
   ]
  },
  {
   "cell_type": "code",
   "execution_count": 23,
   "id": "b65c2d86-1850-4934-bb1e-8401f26b3d4c",
   "metadata": {},
   "outputs": [
    {
     "name": "stdout",
     "output_type": "stream",
     "text": [
      "API Response: Error: 401, {\n",
      "  \"error\": {\n",
      "    \"code\": 401,\n",
      "    \"message\": \"Request had invalid authentication credentials. Expected OAuth 2 access token, login cookie or other valid authentication credential. See https://developers.google.com/identity/sign-in/web/devconsole-project.\",\n",
      "    \"status\": \"UNAUTHENTICATED\"\n",
      "  }\n",
      "}\n",
      "\n"
     ]
    }
   ],
   "source": [
    "if __name__ == \"__main__\":\n",
    "    image_path = \"NScreenshot131.png\"\n",
    "    text_input = \"tiger\"\n",
    "    api_url = \"https://generativelanguage.googleapis.com/v1beta/models/gemini-1.5-flash:generateContent\"\n",
    "    \n",
    "    result = send_to_api(image_path, text_input, api_url)\n",
    "    print(\"API Response:\", result)"
   ]
  }
 ],
 "metadata": {
  "kernelspec": {
   "display_name": "Python 3 (ipykernel)",
   "language": "python",
   "name": "python3"
  },
  "language_info": {
   "codemirror_mode": {
    "name": "ipython",
    "version": 3
   },
   "file_extension": ".py",
   "mimetype": "text/x-python",
   "name": "python",
   "nbconvert_exporter": "python",
   "pygments_lexer": "ipython3",
   "version": "3.11.5"
  }
 },
 "nbformat": 4,
 "nbformat_minor": 5
}
